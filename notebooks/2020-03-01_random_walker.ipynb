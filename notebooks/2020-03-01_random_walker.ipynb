{
 "cells": [
  {
   "cell_type": "markdown",
   "metadata": {},
   "source": [
    "Niko McCarty\n",
    "\n",
    "Goal is to make a 1D random walker and a 2D random walker to display next to it, all with Panel (users can select probabilities and click a button to generate a new \"random walk\" with fixed number of steps, e.g. 10,000"
   ]
  },
  {
   "cell_type": "code",
   "execution_count": 4,
   "metadata": {},
   "outputs": [],
   "source": [
    "import numpy as np\n",
    "import bokeh.io\n",
    "import bokeh.plotting\n",
    "import bokeh.layouts\n",
    "import bokeh.palettes\n",
    "from bokeh.models import *\n",
    "bokeh.io.output_file('random_walk.html')\n",
    "colors = {'black':'#444147', 'purple': '#7E59A2', 'orange':'#E39943'} "
   ]
  },
  {
   "cell_type": "code",
   "execution_count": null,
   "metadata": {},
   "outputs": [],
   "source": [
    "# Probability to move up or down \n",
    "prob = [0.5, 0.50]   \n",
    "  \n",
    "# statically defining the starting position \n",
    "start = 2  \n",
    "positions = [start] \n",
    "  \n",
    "# creating the random points \n",
    "rr = np.random.random(1000) \n",
    "downp = rr < prob[0] \n",
    "upp = rr > prob[1] \n",
    "  \n",
    "  \n",
    "for idownp, iupp in zip(downp, upp): \n",
    "    down = idownp and positions[-1] > 1\n",
    "    up = iupp and positions[-1] < 4\n",
    "    positions.append(positions[-1] - down + up) "
   ]
  },
  {
   "cell_type": "code",
   "execution_count": null,
   "metadata": {},
   "outputs": [],
   "source": []
  },
  {
   "cell_type": "code",
   "execution_count": null,
   "metadata": {},
   "outputs": [],
   "source": []
  },
  {
   "cell_type": "code",
   "execution_count": 3,
   "metadata": {},
   "outputs": [
    {
     "ename": "NameError",
     "evalue": "name 'ColumnDataSource' is not defined",
     "output_type": "error",
     "traceback": [
      "\u001b[1;31m---------------------------------------------------------------------------\u001b[0m",
      "\u001b[1;31mNameError\u001b[0m                                 Traceback (most recent call last)",
      "\u001b[1;32m<ipython-input-3-546b6bfa6a3b>\u001b[0m in \u001b[0;36m<module>\u001b[1;34m()\u001b[0m\n\u001b[0;32m      4\u001b[0m \u001b[1;33m\u001b[0m\u001b[0m\n\u001b[0;32m      5\u001b[0m \u001b[1;31m# Assemble the three necessary data sources\u001b[0m\u001b[1;33m\u001b[0m\u001b[1;33m\u001b[0m\u001b[1;33m\u001b[0m\u001b[0m\n\u001b[1;32m----> 6\u001b[1;33m \u001b[0msource\u001b[0m \u001b[1;33m=\u001b[0m \u001b[0mColumnDataSource\u001b[0m\u001b[1;33m(\u001b[0m\u001b[1;33m{\u001b[0m\u001b[1;34m'x'\u001b[0m\u001b[1;33m:\u001b[0m\u001b[1;33m[\u001b[0m\u001b[1;33m]\u001b[0m\u001b[1;33m,\u001b[0m \u001b[1;34m'y'\u001b[0m\u001b[1;33m:\u001b[0m\u001b[1;33m[\u001b[0m\u001b[1;33m]\u001b[0m\u001b[1;33m}\u001b[0m\u001b[1;33m)\u001b[0m\u001b[1;33m\u001b[0m\u001b[1;33m\u001b[0m\u001b[0m\n\u001b[0m\u001b[0;32m      7\u001b[0m \u001b[0mcurrent_position\u001b[0m \u001b[1;33m=\u001b[0m \u001b[0mColumnDataSource\u001b[0m\u001b[1;33m(\u001b[0m\u001b[1;33m{\u001b[0m\u001b[1;34m'x'\u001b[0m\u001b[1;33m:\u001b[0m\u001b[1;33m[\u001b[0m\u001b[1;33m]\u001b[0m\u001b[1;33m,\u001b[0m \u001b[1;34m'y'\u001b[0m\u001b[1;33m:\u001b[0m\u001b[1;33m[\u001b[0m\u001b[1;33m]\u001b[0m\u001b[1;33m}\u001b[0m\u001b[1;33m)\u001b[0m\u001b[1;33m\u001b[0m\u001b[1;33m\u001b[0m\u001b[0m\n\u001b[0;32m      8\u001b[0m \u001b[0mdisplay_source\u001b[0m \u001b[1;33m=\u001b[0m \u001b[0mColumnDataSource\u001b[0m\u001b[1;33m(\u001b[0m\u001b[1;33m{\u001b[0m\u001b[1;34m'x'\u001b[0m\u001b[1;33m:\u001b[0m\u001b[1;33m[\u001b[0m\u001b[1;33m]\u001b[0m\u001b[1;33m,\u001b[0m \u001b[1;34m'y'\u001b[0m\u001b[1;33m:\u001b[0m\u001b[1;33m[\u001b[0m\u001b[1;33m]\u001b[0m\u001b[1;33m}\u001b[0m\u001b[1;33m)\u001b[0m\u001b[1;33m\u001b[0m\u001b[1;33m\u001b[0m\u001b[0m\n",
      "\u001b[1;31mNameError\u001b[0m: name 'ColumnDataSource' is not defined"
     ]
    }
   ],
   "source": [
    "\n",
    "# Define the initial number of steps\n",
    "n_steps = int(1E5)\n",
    "\n",
    "# Assemble the three necessary data sources\n",
    "source = ColumnDataSource({'x':[], 'y':[]})\n",
    "current_position = ColumnDataSource({'x':[], 'y':[]})\n",
    "display_source = ColumnDataSource({'x':[], 'y':[]})\n",
    "\n",
    "# Define the interactive components\n",
    "run_button = Button(label='click to generate a random walk')\n",
    "step_slider = Slider(title='number of steps', start=10, end=int(n_steps), step=1,\n",
    "                    value=10, bar_color=colors['purple'])\n",
    "\n",
    "# Define the javascript for each component\n",
    "generate_walk = \"\"\"\n",
    "\n",
    "// Instantiate position vectors\n",
    "var xs = [0]\n",
    "var ys = [0]\n",
    "\n",
    "// Loop through each step, starting with the second.\n",
    "for (var i = 1; i < n_steps; i++) { \n",
    "\n",
    "    // Determine a random angle to step towards\n",
    "    theta = Math.random() * 2 * Math.PI;\n",
    "\n",
    "    // Compute and store the new xy positions\n",
    "    xs.push(xs[i - 1] + Math.cos(theta)); \n",
    "    ys.push(ys[i - 1] + Math.sin(theta)); }\n",
    "\n",
    "\n",
    "// Update the data source\n",
    "source.data['x'] = xs;\n",
    "source.data['y'] = ys;\n",
    "source.change.emit()\n",
    "\n",
    "// Reset the step slider to the default value\n",
    "stepSlider.value = 10;\n",
    "\"\"\"\n",
    "\n",
    "display_steps = \"\"\"\n",
    "// Determine where to start slicing the inset data\n",
    "if (stepSlider.value < 5000) {\n",
    "    var init = 0;\n",
    "}\n",
    "else { \n",
    "    var init = stepSlider.value - 5000;\n",
    "}\n",
    "\n",
    "// Assign the inset data for display\n",
    "display_source.data['x'] = source.data['x'].slice(init, stepSlider.value);\n",
    "display_source.data['y'] = source.data['y'].slice(init, stepSlider.value);\n",
    "\n",
    "// Highlight the current position -- Can do this with an indexfilter as well\n",
    "current_position.data['x'] = display_source.data['x'].slice(-1);\n",
    "current_position.data['y'] = display_source.data['y'].slice(-1);\n",
    "\n",
    "// Update the data sources\n",
    "display_source.change.emit()\n",
    "current_position.change.emit()\n",
    "\"\"\"\n",
    "\n",
    "\n",
    "# Define and assignthe callbacks\n",
    "args={'stepSlider':step_slider, 'source':source,\n",
    "'display_source':display_source, 'current_position':current_position,\n",
    "'n_steps':n_steps}\n",
    "generate_cb = CustomJS(args=args, code=generate_walk + display_steps)\n",
    "display_cb = CustomJS(args=args, code=display_steps)\n",
    "run_button.js_on_click(generate_cb)\n",
    "step_slider.js_on_change('value', display_cb)\n",
    "\n",
    "# Define the axes\n",
    "overview_ax = bokeh.plotting.figure(width=300, height=300, match_aspect=True,\n",
    "                x_axis_label = 'x position', y_axis_label='y position')\n",
    "inset_ax = bokeh.plotting.figure(width=300, height=300, match_aspect=True,\n",
    "                x_axis_label='x position', y_axis_label = 'y position')\n",
    "\n",
    "# Populate teh axes\n",
    "overview_ax.circle('x', 'y', source=current_position, color=colors['orange'],\n",
    "level='overlay', size=5)\n",
    "overview_ax.square('x', 'y', source=current_position, fill_color='grey', fill_alpha=0.25,\n",
    "line_color=colors['orange'], level='overlay', size=30)\n",
    "overview_ax.line('x', 'y', source=source, color=colors['black'], line_width=0.5,\n",
    "alpha=0.5)\n",
    "\n",
    "inset_ax.line('x', 'y', source=display_source, color=colors['purple'], line_width=0.5, alpha=1)\n",
    "inset_ax.circle('x', 'y', source=current_position, color=colors['orange'],\n",
    "level='overlay', size=5)\n",
    "\n",
    "\n",
    "# Define the layout\n",
    "row = bokeh.layouts.row(overview_ax, inset_ax)\n",
    "lay = bokeh.layouts.column(run_button, step_slider, row)"
   ]
  },
  {
   "cell_type": "markdown",
   "metadata": {},
   "source": [
    "1D walker"
   ]
  },
  {
   "cell_type": "code",
   "execution_count": 1,
   "metadata": {},
   "outputs": [
    {
     "data": {
      "text/plain": [
       "<Figure size 640x480 with 1 Axes>"
      ]
     },
     "metadata": {},
     "output_type": "display_data"
    }
   ],
   "source": [
    "# Python code for 1-D random walk. \n",
    "\n",
    "  \n",
    "\n",
    "  \n",
    "# plotting down the graph of the random walk in 1D \n",
    "plt.plot(positions) \n",
    "plt.show() "
   ]
  },
  {
   "cell_type": "code",
   "execution_count": null,
   "metadata": {},
   "outputs": [],
   "source": []
  },
  {
   "cell_type": "markdown",
   "metadata": {},
   "source": [
    "2D walker"
   ]
  },
  {
   "cell_type": "code",
   "execution_count": 2,
   "metadata": {},
   "outputs": [
    {
     "data": {
      "image/png": "[encoded data removed]",
      "text/plain": [
       "<Figure size 432x288 with 1 Axes>"
      ]
     },
     "metadata": {
      "needs_background": "light"
     },
     "output_type": "display_data"
    }
   ],
   "source": [
    "# Python code for 2D random walk. \n",
    "\n",
    "  \n",
    "# defining the number of steps \n",
    "n = 100000\n",
    "  \n",
    "#creating two array for containing x and y coordinate \n",
    "#of size equals to the number of size and filled up with 0's \n",
    "x = numpy.zeros(n) \n",
    "y = numpy.zeros(n) \n",
    "  \n",
    "# filling the coordinates with random variables \n",
    "for i in range(1, n): \n",
    "    val = random.randint(1, 4) \n",
    "    if val == 1: \n",
    "        x[i] = x[i - 1] + 1\n",
    "        y[i] = y[i - 1] \n",
    "    elif val == 2: \n",
    "        x[i] = x[i - 1] - 1\n",
    "        y[i] = y[i - 1] \n",
    "    elif val == 3: \n",
    "        x[i] = x[i - 1] \n",
    "        y[i] = y[i - 1] + 1\n",
    "    else: \n",
    "        x[i] = x[i - 1] \n",
    "        y[i] = y[i - 1] - 1\n",
    "      \n",
    "  \n",
    "# plotting stuff: \n",
    "pylab.title(\"Random Walk ($n = \" + str(n) + \"$ steps)\") \n",
    "pylab.plot(x, y) \n",
    "pylab.savefig(\"rand_walk\"+str(n)+\".png\",bbox_inches=\"tight\",dpi=600) \n",
    "pylab.show() "
   ]
  },
  {
   "cell_type": "code",
   "execution_count": null,
   "metadata": {},
   "outputs": [],
   "source": []
  }
 ],
 "metadata": {
  "kernelspec": {
   "display_name": "Python 3",
   "language": "python",
   "name": "python3"
  },
  "language_info": {
   "codemirror_mode": {
    "name": "ipython",
    "version": 3
   },
   "file_extension": ".py",
   "mimetype": "text/x-python",
   "name": "python",
   "nbconvert_exporter": "python",
   "pygments_lexer": "ipython3",
   "version": "3.7.5"
  }
 },
 "nbformat": 4,
 "nbformat_minor": 4
}
